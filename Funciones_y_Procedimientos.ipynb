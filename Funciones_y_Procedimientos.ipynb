{
  "nbformat": 4,
  "nbformat_minor": 0,
  "metadata": {
    "colab": {
      "provenance": [],
      "include_colab_link": true
    },
    "kernelspec": {
      "name": "python3",
      "display_name": "Python 3"
    },
    "language_info": {
      "name": "python"
    }
  },
  "cells": [
    {
      "cell_type": "markdown",
      "metadata": {
        "id": "view-in-github",
        "colab_type": "text"
      },
      "source": [
        "<a href=\"https://colab.research.google.com/github/Luis10245/TalentoTechIA/blob/main/Funciones_y_Procedimientos.ipynb\" target=\"_parent\"><img src=\"https://colab.research.google.com/assets/colab-badge.svg\" alt=\"Open In Colab\"/></a>"
      ]
    },
    {
      "cell_type": "code",
      "execution_count": null,
      "metadata": {
        "id": "7iAxw2SMgjr8"
      },
      "outputs": [],
      "source": [
        "# Funciones\n",
        "\n",
        "# declarando la funcion saludar\n",
        "def saludar():\n",
        "    texto = 'Hola Muchachos!'\n",
        "    print(texto)\n",
        "\n",
        "def despedir():\n",
        "    texto = 'Adios Mundo Cruel!'\n",
        "    return texto\n",
        "\n",
        "print(saludar())\n",
        "print(despedir())"
      ]
    },
    {
      "cell_type": "code",
      "source": [
        "'''\n",
        "Elabora una calculadora  basica con las funciones suma resta multiplicacion y division.\n",
        "\n",
        "'''\n",
        "def suma():\n",
        "    a = float(input('Ingrese el primer numero: '))\n",
        "    b = float(input('Ingrese el segundo numero: '))\n",
        "    return a+b\n",
        "\n",
        "def resta():\n",
        "    a = float(input('Ingrese el primer numero: '))\n",
        "    b = float(input('Ingrese el segundo numero: '))\n",
        "    return a-b\n",
        "\n",
        "def multiplicacion():\n",
        "    a = float(input('Ingrese el primer numero: '))\n",
        "    b = float(input('Ingrese el segundo numero: '))\n",
        "    return a*b\n",
        "\n",
        "def division():\n",
        "    a = float(input('Ingrese el primer numero: '))\n",
        "    b = float(input('Ingrese el segundo numero: '))\n",
        "    # if b != 0:\n",
        "    #   return a/b\n",
        "    # else:\n",
        "    #   return 'No se puede dividir por cero'\n",
        "    try:\n",
        "      return a/b\n",
        "    except:\n",
        "      return 'No se puede dividir por cero'\n",
        "\n",
        "\n",
        "while True:\n",
        "  opcion = int(input('''\n",
        "  ¿Qué quieres hacer?\n",
        "  1) Sumar los números\n",
        "  2) Restar los números\n",
        "  3) Multiplicar los números\n",
        "  4) Dividir los números\n",
        "  5) Salir\n",
        "  '''))\n",
        "  if opcion == 1:\n",
        "    print(suma())\n",
        "  elif opcion == 2:\n",
        "    print(resta())\n",
        "  elif opcion == 3:\n",
        "    print(multiplicacion())\n",
        "  elif opcion == 4:\n",
        "    print(division())\n",
        "  elif opcion == 5:\n",
        "    break\n",
        "  else:\n",
        "    print('Opción incorrecta')"
      ],
      "metadata": {
        "id": "iczR17_RgsgJ"
      },
      "execution_count": null,
      "outputs": []
    },
    {
      "cell_type": "code",
      "source": [
        "# Funciones con Parametros\n",
        "def calcular_area(base, altura):\n",
        "    area = (base * altura )/ 2\n",
        "    return area\n",
        "\n",
        "def calcular_area_circulo(radio):\n",
        "    phi = 3.1416\n",
        "    area = phi * radio ** 2\n",
        "    return area\n",
        "\n",
        "b = float(input(\"ingrese la base : \"))\n",
        "a = float(input(\"ingrese la altura : \"))\n",
        "\n",
        "print(calcular_area(b, a))\n",
        "print(calcular_area_circulo(10))\n",
        "\n",
        "print(calcular_area(10, 20) + calcular_area_circulo(10))\n"
      ],
      "metadata": {
        "colab": {
          "base_uri": "https://localhost:8080/"
        },
        "id": "txXWuEV3lrU7",
        "outputId": "a865a7cc-68a8-4b23-ac96-e827cb6575d3"
      },
      "execution_count": null,
      "outputs": [
        {
          "output_type": "stream",
          "name": "stdout",
          "text": [
            "ingrese la base : 10\n",
            "ingrese la altura : 20\n",
            "100.0\n",
            "314.15999999999997\n",
            "414.15999999999997\n"
          ]
        }
      ]
    },
    {
      "cell_type": "code",
      "source": [
        "'''\n",
        "Realiza n programa que  permita  agregar\n",
        "al usuario  n  numeros a una lista\n",
        "hasta que el usuario ingrese el numero 0\n",
        "al final mostrar los datos ingresados\n",
        "[1,5,6,13,23]\n",
        "  ciclos (while)\n",
        "  condicional (if)\n",
        "  lista\n",
        "'''\n",
        "\n",
        "def agregar_numeros(numero, lista = [] ):\n",
        "    if  numero != 0:\n",
        "        lista.append(numero)\n",
        "        return f'elemento {numero} agregado a la lista'\n",
        "    else:\n",
        "        return lista\n",
        "\n",
        "while True:\n",
        "    numero = int(input(\"ingrese el numero : \"))\n",
        "    print(agregar_numeros(numero))\n",
        "    if numero == 0:\n",
        "        break"
      ],
      "metadata": {
        "colab": {
          "base_uri": "https://localhost:8080/"
        },
        "id": "t02TZv_Ur_ER",
        "outputId": "008e9670-dfaf-46a9-b9e0-b81245d56b91"
      },
      "execution_count": null,
      "outputs": [
        {
          "output_type": "stream",
          "name": "stdout",
          "text": [
            "ingrese el numero : 5\n",
            "elemento 5 agregado a la lista\n",
            "ingrese el numero : 6\n",
            "elemento 6 agregado a la lista\n",
            "ingrese el numero : 4\n",
            "elemento 4 agregado a la lista\n",
            "ingrese el numero : 0\n",
            "[5, 6, 4]\n"
          ]
        }
      ]
    }
  ]
}